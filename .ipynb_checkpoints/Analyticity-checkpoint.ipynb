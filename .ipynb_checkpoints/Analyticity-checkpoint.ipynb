{
 "cells": [
  {
   "cell_type": "code",
   "execution_count": 1,
   "metadata": {},
   "outputs": [
    {
     "name": "stderr",
     "output_type": "stream",
     "text": [
      "Using TensorFlow backend.\n"
     ]
    }
   ],
   "source": [
    "# Import necessary libraries.\n",
    "\n",
    "import numpy as np\n",
    "import helpers\n",
    "import matplotlib.pyplot as plt\n",
    "import csv\n",
    "from keras.models import Sequential\n",
    "from keras.layers import Dense"
   ]
  },
  {
   "cell_type": "code",
   "execution_count": 2,
   "metadata": {},
   "outputs": [],
   "source": [
    "# Load data.\n",
    "\n",
    "X_train, y_train, X_test, y_test = helpers.load_data('train.csv', split=0., blacklist=['LOAN_ID'])\n",
    "#X_test, test_ids = helpers.load_test_data('test.csv', blacklist=['TEST_ID', 'LOAN_ID'])"
   ]
  },
  {
   "cell_type": "code",
   "execution_count": 3,
   "metadata": {},
   "outputs": [],
   "source": [
    "# Ensuring that all the data is floats.\n",
    "X_train = np.array([ [0 if element=='' else float(element) for element in row] for row in X_train])\n",
    "X_test = np.array([ [0 if element=='' else float(element) for element in row] for row in X_test])\n",
    "\n",
    "y_train = np.array([ float(element) for element in y_train])\n",
    "y_test = np.array([ float(element) for element in y_test])"
   ]
  },
  {
   "cell_type": "code",
   "execution_count": 4,
   "metadata": {},
   "outputs": [],
   "source": [
    "# Normalising training & test data.\n",
    "\n",
    "X_train = helpers.normalise_data(X_train, [0,1,2,5,7,8,9,13])\n",
    "X_test = helpers.normalise_data(X_test, [0,1,2,5,7,8,9,13])"
   ]
  },
  {
   "cell_type": "code",
   "execution_count": 5,
   "metadata": {},
   "outputs": [],
   "source": [
    "# Creating & compiling the model.\n",
    "\n",
    "model = Sequential()\n",
    "model.add(Dense(8, input_dim=14, activation='relu'))\n",
    "model.add(Dense(1, activation='sigmoid'))\n",
    "\n",
    "model.compile(loss='binary_crossentropy', optimizer='adam', metrics=['accuracy'])"
   ]
  },
  {
   "cell_type": "code",
   "execution_count": 6,
   "metadata": {},
   "outputs": [
    {
     "name": "stdout",
     "output_type": "stream",
     "text": [
      "Epoch 1/50\n",
      "3575/3575 [==============================] - 0s 101us/step - loss: 0.6711 - acc: 0.5645\n",
      "Epoch 2/50\n",
      "3575/3575 [==============================] - 0s 39us/step - loss: 0.5310 - acc: 0.8087\n",
      "Epoch 3/50\n",
      "3575/3575 [==============================] - 0s 39us/step - loss: 0.4544 - acc: 0.8204\n",
      "Epoch 4/50\n",
      "3575/3575 [==============================] - 0s 44us/step - loss: 0.4179 - acc: 0.8241\n",
      "Epoch 5/50\n",
      "3575/3575 [==============================] - 0s 44us/step - loss: 0.4043 - acc: 0.8283\n",
      "Epoch 6/50\n",
      "3575/3575 [==============================] - 0s 44us/step - loss: 0.3966 - acc: 0.8313\n",
      "Epoch 7/50\n",
      "3575/3575 [==============================] - 0s 39us/step - loss: 0.3912 - acc: 0.8319\n",
      "Epoch 8/50\n",
      "3575/3575 [==============================] - 0s 40us/step - loss: 0.3862 - acc: 0.8366\n",
      "Epoch 9/50\n",
      "3575/3575 [==============================] - 0s 39us/step - loss: 0.3815 - acc: 0.8383\n",
      "Epoch 10/50\n",
      "3575/3575 [==============================] - 0s 35us/step - loss: 0.3767 - acc: 0.8406\n",
      "Epoch 11/50\n",
      "3575/3575 [==============================] - 0s 39us/step - loss: 0.3728 - acc: 0.8408\n",
      "Epoch 12/50\n",
      "3575/3575 [==============================] - 0s 35us/step - loss: 0.3685 - acc: 0.8425\n",
      "Epoch 13/50\n",
      "3575/3575 [==============================] - 0s 35us/step - loss: 0.3655 - acc: 0.8456\n",
      "Epoch 14/50\n",
      "3575/3575 [==============================] - 0s 39us/step - loss: 0.3620 - acc: 0.8490\n",
      "Epoch 15/50\n",
      "3575/3575 [==============================] - 0s 40us/step - loss: 0.3592 - acc: 0.8492\n",
      "Epoch 16/50\n",
      "3575/3575 [==============================] - 0s 39us/step - loss: 0.3565 - acc: 0.8509\n",
      "Epoch 17/50\n",
      "3575/3575 [==============================] - 0s 44us/step - loss: 0.3546 - acc: 0.8520\n",
      "Epoch 18/50\n",
      "3575/3575 [==============================] - 0s 47us/step - loss: 0.3533 - acc: 0.8517\n",
      "Epoch 19/50\n",
      "3575/3575 [==============================] - 0s 41us/step - loss: 0.3506 - acc: 0.8548\n",
      "Epoch 20/50\n",
      "3575/3575 [==============================] - 0s 44us/step - loss: 0.3498 - acc: 0.8529\n",
      "Epoch 21/50\n",
      "3575/3575 [==============================] - 0s 39us/step - loss: 0.3481 - acc: 0.8545\n",
      "Epoch 22/50\n",
      "3575/3575 [==============================] - 0s 43us/step - loss: 0.3469 - acc: 0.8554\n",
      "Epoch 23/50\n",
      "3575/3575 [==============================] - 0s 39us/step - loss: 0.3462 - acc: 0.8585\n",
      "Epoch 24/50\n",
      "3575/3575 [==============================] - 0s 35us/step - loss: 0.3455 - acc: 0.8613\n",
      "Epoch 25/50\n",
      "3575/3575 [==============================] - 0s 40us/step - loss: 0.3444 - acc: 0.8587\n",
      "Epoch 26/50\n",
      "3575/3575 [==============================] - 0s 39us/step - loss: 0.3438 - acc: 0.8638\n",
      "Epoch 27/50\n",
      "3575/3575 [==============================] - 0s 39us/step - loss: 0.3426 - acc: 0.8615\n",
      "Epoch 28/50\n",
      "3575/3575 [==============================] - 0s 36us/step - loss: 0.3426 - acc: 0.8669\n",
      "Epoch 29/50\n",
      "3575/3575 [==============================] - 0s 39us/step - loss: 0.3414 - acc: 0.8655\n",
      "Epoch 30/50\n",
      "3575/3575 [==============================] - 0s 39us/step - loss: 0.3408 - acc: 0.8652\n",
      "Epoch 31/50\n",
      "3575/3575 [==============================] - 0s 39us/step - loss: 0.3399 - acc: 0.8683\n",
      "Epoch 32/50\n",
      "3575/3575 [==============================] - 0s 39us/step - loss: 0.3393 - acc: 0.8691\n",
      "Epoch 33/50\n",
      "3575/3575 [==============================] - 0s 40us/step - loss: 0.3394 - acc: 0.8677\n",
      "Epoch 34/50\n",
      "3575/3575 [==============================] - 0s 44us/step - loss: 0.3391 - acc: 0.8702\n",
      "Epoch 35/50\n",
      "3575/3575 [==============================] - 0s 39us/step - loss: 0.3385 - acc: 0.8719\n",
      "Epoch 36/50\n",
      "3575/3575 [==============================] - 0s 43us/step - loss: 0.3380 - acc: 0.8702\n",
      "Epoch 37/50\n",
      "3575/3575 [==============================] - 0s 44us/step - loss: 0.3375 - acc: 0.8708\n",
      "Epoch 38/50\n",
      "3575/3575 [==============================] - 0s 44us/step - loss: 0.3380 - acc: 0.8736\n",
      "Epoch 39/50\n",
      "3575/3575 [==============================] - 0s 44us/step - loss: 0.3374 - acc: 0.8727\n",
      "Epoch 40/50\n",
      "3575/3575 [==============================] - 0s 44us/step - loss: 0.3367 - acc: 0.8724\n",
      "Epoch 41/50\n",
      "3575/3575 [==============================] - 0s 39us/step - loss: 0.3365 - acc: 0.8750\n",
      "Epoch 42/50\n",
      "3575/3575 [==============================] - 0s 39us/step - loss: 0.3363 - acc: 0.8724\n",
      "Epoch 43/50\n",
      "3575/3575 [==============================] - 0s 40us/step - loss: 0.3357 - acc: 0.8733\n",
      "Epoch 44/50\n",
      "3575/3575 [==============================] - 0s 39us/step - loss: 0.3363 - acc: 0.8722\n",
      "Epoch 45/50\n",
      "3575/3575 [==============================] - 0s 39us/step - loss: 0.3361 - acc: 0.8724\n",
      "Epoch 46/50\n",
      "3575/3575 [==============================] - 0s 44us/step - loss: 0.3360 - acc: 0.8733\n",
      "Epoch 47/50\n",
      "3575/3575 [==============================] - 0s 44us/step - loss: 0.3347 - acc: 0.8719\n",
      "Epoch 48/50\n",
      "3575/3575 [==============================] - 0s 39us/step - loss: 0.3348 - acc: 0.8764\n",
      "Epoch 49/50\n",
      "3575/3575 [==============================] - 0s 45us/step - loss: 0.3350 - acc: 0.8727\n",
      "Epoch 50/50\n",
      "3575/3575 [==============================] - 0s 41us/step - loss: 0.3346 - acc: 0.8747\n"
     ]
    },
    {
     "data": {
      "text/plain": [
       "<keras.callbacks.History at 0x20ee7b2f048>"
      ]
     },
     "execution_count": 6,
     "metadata": {},
     "output_type": "execute_result"
    }
   ],
   "source": [
    "# Training the model.\n",
    "\n",
    "model.fit(X_train, y_train, epochs=50, batch_size=25)"
   ]
  },
  {
   "cell_type": "code",
   "execution_count": 7,
   "metadata": {
    "scrolled": true
   },
   "outputs": [
    {
     "name": "stdout",
     "output_type": "stream",
     "text": [
      "The model ran with 86.6051454139% accuracy\n"
     ]
    }
   ],
   "source": [
    "# Predicting from the test set.\n",
    "\n",
    "y_pred = model.predict(X_test)\n",
    "y_pred = helpers.round(y_pred, threshold=0.6)\n",
    "y_correct = abs(y_pred - y_test)\n",
    "percentage = ((1 -(sum(y_correct)/y_correct.size)) * 100)\n",
    "print(\"The model ran with \" + str(percentage) + \"% accuracy\")"
   ]
  },
  {
   "cell_type": "code",
   "execution_count": 18,
   "metadata": {},
   "outputs": [],
   "source": [
    "# Submission code.\n",
    "\n",
    "y_pred = model.predict(X_test)\n",
    "y_pred = helpers.round(y_pred, threshold=0.6)\n",
    "\n",
    "with open('submission.csv', 'w', newline='') as output:\n",
    "    writer = csv.writer(output)\n",
    "    writer.writerow(['LOAN_ID', 'DEFAULTER'])\n",
    "    for i in range(len(y_pred)):\n",
    "        writer.writerow((test_ids[i], y_pred[i]))"
   ]
  }
 ],
 "metadata": {
  "kernelspec": {
   "display_name": "Python 3",
   "language": "python",
   "name": "python3"
  },
  "language_info": {
   "codemirror_mode": {
    "name": "ipython",
    "version": 3
   },
   "file_extension": ".py",
   "mimetype": "text/x-python",
   "name": "python",
   "nbconvert_exporter": "python",
   "pygments_lexer": "ipython3",
   "version": "3.6.4"
  }
 },
 "nbformat": 4,
 "nbformat_minor": 2
}
