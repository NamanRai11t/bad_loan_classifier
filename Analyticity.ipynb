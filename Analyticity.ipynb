{
 "cells": [
  {
   "cell_type": "code",
   "execution_count": 1,
   "metadata": {},
   "outputs": [
    {
     "name": "stderr",
     "output_type": "stream",
     "text": [
      "Using TensorFlow backend.\n"
     ]
    }
   ],
   "source": [
    "# Import necessary libraries.\n",
    "\n",
    "import numpy as np\n",
    "import helpers\n",
    "import matplotlib.pyplot as plt\n",
    "import csv\n",
    "from keras.models import Sequential\n",
    "from keras.layers import Dense"
   ]
  },
  {
   "cell_type": "code",
   "execution_count": 2,
   "metadata": {},
   "outputs": [],
   "source": [
    "# Load data.\n",
    "\n",
    "X_train, y_train, X_test, y_test = helpers.load_data('train.csv', split=1, blacklist=['LOAN_ID', 'REASON', 'OCC', 'CONVICTED'])\n",
    "X_test, test_ids = helpers.load_test_data('test.csv', blacklist=['TEST_ID', 'LOAN_ID', 'REASON', 'OCC', 'CONVICTED'])"
   ]
  },
  {
   "cell_type": "code",
   "execution_count": 3,
   "metadata": {},
   "outputs": [],
   "source": [
    "# Ensuring that all the data is floats.\n",
    "X_train = np.array([ [0 if element=='' else float(element) for element in row] for row in X_train])\n",
    "X_test = np.array([ [0 if element=='' else float(element) for element in row] for row in X_test])\n",
    "\n",
    "y_train = np.array([ float(element) for element in y_train])\n",
    "y_test = np.array([ float(element) for element in y_test])"
   ]
  },
  {
   "cell_type": "code",
   "execution_count": 4,
   "metadata": {},
   "outputs": [],
   "source": [
    "# Normalising training & test data.\n",
    "\n",
    "X_train = helpers.normalise_data(X_train)\n",
    "X_test = helpers.normalise_data(X_test)"
   ]
  },
  {
   "cell_type": "code",
   "execution_count": 5,
   "metadata": {},
   "outputs": [],
   "source": [
    "# Creating & compiling the model.\n",
    "\n",
    "model = Sequential()\n",
    "model.add(Dense(6, input_dim=11, activation='relu'))\n",
    "model.add(Dense(1, activation='sigmoid'))\n",
    "\n",
    "model.compile(loss='binary_crossentropy', optimizer='adam', metrics=['accuracy'])"
   ]
  },
  {
   "cell_type": "code",
   "execution_count": 6,
   "metadata": {},
   "outputs": [
    {
     "name": "stdout",
     "output_type": "stream",
     "text": [
      "Epoch 1/40\n",
      "3575/3575 [==============================] - 0s 120us/step - loss: 0.6493 - acc: 0.6945\n",
      "Epoch 2/40\n",
      "3575/3575 [==============================] - 0s 39us/step - loss: 0.5120 - acc: 0.8025\n",
      "Epoch 3/40\n",
      "3575/3575 [==============================] - 0s 43us/step - loss: 0.4698 - acc: 0.8022\n",
      "Epoch 4/40\n",
      "3575/3575 [==============================] - 0s 44us/step - loss: 0.4465 - acc: 0.8042\n",
      "Epoch 5/40\n",
      "3575/3575 [==============================] - 0s 39us/step - loss: 0.4256 - acc: 0.8090\n",
      "Epoch 6/40\n",
      "3575/3575 [==============================] - 0s 40us/step - loss: 0.4067 - acc: 0.8185\n",
      "Epoch 7/40\n",
      "3575/3575 [==============================] - 0s 44us/step - loss: 0.3912 - acc: 0.8294\n",
      "Epoch 8/40\n",
      "3575/3575 [==============================] - 0s 39us/step - loss: 0.3789 - acc: 0.8369\n",
      "Epoch 9/40\n",
      "3575/3575 [==============================] - 0s 42us/step - loss: 0.3693 - acc: 0.8414\n",
      "Epoch 10/40\n",
      "3575/3575 [==============================] - 0s 41us/step - loss: 0.3618 - acc: 0.8498\n",
      "Epoch 11/40\n",
      "3575/3575 [==============================] - 0s 39us/step - loss: 0.3562 - acc: 0.8559\n",
      "Epoch 12/40\n",
      "3575/3575 [==============================] - 0s 39us/step - loss: 0.3517 - acc: 0.8582\n",
      "Epoch 13/40\n",
      "3575/3575 [==============================] - 0s 44us/step - loss: 0.3487 - acc: 0.8632\n",
      "Epoch 14/40\n",
      "3575/3575 [==============================] - 0s 44us/step - loss: 0.3463 - acc: 0.8624\n",
      "Epoch 15/40\n",
      "3575/3575 [==============================] - 0s 39us/step - loss: 0.3441 - acc: 0.8618\n",
      "Epoch 16/40\n",
      "3575/3575 [==============================] - 0s 43us/step - loss: 0.3424 - acc: 0.8621\n",
      "Epoch 17/40\n",
      "3575/3575 [==============================] - 0s 39us/step - loss: 0.3412 - acc: 0.8638\n",
      "Epoch 18/40\n",
      "3575/3575 [==============================] - 0s 44us/step - loss: 0.3399 - acc: 0.8643\n",
      "Epoch 19/40\n",
      "3575/3575 [==============================] - 0s 39us/step - loss: 0.3391 - acc: 0.8666\n",
      "Epoch 20/40\n",
      "3575/3575 [==============================] - 0s 44us/step - loss: 0.3385 - acc: 0.8666\n",
      "Epoch 21/40\n",
      "3575/3575 [==============================] - 0s 39us/step - loss: 0.3376 - acc: 0.8674\n",
      "Epoch 22/40\n",
      "3575/3575 [==============================] - 0s 39us/step - loss: 0.3370 - acc: 0.8688\n",
      "Epoch 23/40\n",
      "3575/3575 [==============================] - 0s 44us/step - loss: 0.3363 - acc: 0.8685\n",
      "Epoch 24/40\n",
      "3575/3575 [==============================] - 0s 39us/step - loss: 0.3359 - acc: 0.8699\n",
      "Epoch 25/40\n",
      "3575/3575 [==============================] - 0s 44us/step - loss: 0.3355 - acc: 0.8713\n",
      "Epoch 26/40\n",
      "3575/3575 [==============================] - 0s 39us/step - loss: 0.3351 - acc: 0.8710\n",
      "Epoch 27/40\n",
      "3575/3575 [==============================] - 0s 43us/step - loss: 0.3345 - acc: 0.8710\n",
      "Epoch 28/40\n",
      "3575/3575 [==============================] - 0s 40us/step - loss: 0.3338 - acc: 0.8708\n",
      "Epoch 29/40\n",
      "3575/3575 [==============================] - 0s 39us/step - loss: 0.3337 - acc: 0.8738\n",
      "Epoch 30/40\n",
      "3575/3575 [==============================] - 0s 44us/step - loss: 0.3334 - acc: 0.8744\n",
      "Epoch 31/40\n",
      "3575/3575 [==============================] - 0s 39us/step - loss: 0.3329 - acc: 0.8750\n",
      "Epoch 32/40\n",
      "3575/3575 [==============================] - 0s 39us/step - loss: 0.3325 - acc: 0.8752\n",
      "Epoch 33/40\n",
      "3575/3575 [==============================] - 0s 44us/step - loss: 0.3321 - acc: 0.8741\n",
      "Epoch 34/40\n",
      "3575/3575 [==============================] - 0s 40us/step - loss: 0.3315 - acc: 0.8783\n",
      "Epoch 35/40\n",
      "3575/3575 [==============================] - 0s 41us/step - loss: 0.3315 - acc: 0.8750\n",
      "Epoch 36/40\n",
      "3575/3575 [==============================] - 0s 39us/step - loss: 0.3311 - acc: 0.8764\n",
      "Epoch 37/40\n",
      "3575/3575 [==============================] - 0s 43us/step - loss: 0.3307 - acc: 0.8778\n",
      "Epoch 38/40\n",
      "3575/3575 [==============================] - 0s 39us/step - loss: 0.3302 - acc: 0.8758\n",
      "Epoch 39/40\n",
      "3575/3575 [==============================] - 0s 39us/step - loss: 0.3301 - acc: 0.8780\n",
      "Epoch 40/40\n",
      "3575/3575 [==============================] - 0s 44us/step - loss: 0.3298 - acc: 0.8769\n"
     ]
    },
    {
     "data": {
      "text/plain": [
       "<keras.callbacks.History at 0x18ed4135198>"
      ]
     },
     "execution_count": 6,
     "metadata": {},
     "output_type": "execute_result"
    }
   ],
   "source": [
    "# Training the model.\n",
    "\n",
    "model.fit(X_train, y_train, epochs=40, batch_size=25)"
   ]
  },
  {
   "cell_type": "code",
   "execution_count": 7,
   "metadata": {
    "scrolled": true
   },
   "outputs": [],
   "source": [
    "# Predicting from the test set.\n",
    "\n",
    "#y_pred = model.predict(X_test)\n",
    "#y_pred = helpers.round(y_pred, threshold=0.5)\n",
    "#y_correct = abs(y_pred - y_test)\n",
    "#percentage = ((1 -(sum(y_correct)/y_correct.size)) * 100)\n",
    "#print(\"The model ran with \" + str(percentage) + \"% accuracy\")"
   ]
  },
  {
   "cell_type": "code",
   "execution_count": 9,
   "metadata": {},
   "outputs": [],
   "source": [
    "# Submission code.\n",
    "\n",
    "y_pred = model.predict(X_test)\n",
    "y_pred = helpers.round(y_pred, threshold=0.6)\n",
    "\n",
    "with open('submission2.csv', 'w', newline='') as output:\n",
    "    writer = csv.writer(output)\n",
    "    writer.writerow(['LOAN_ID', 'DEFAULTER'])\n",
    "    for i in range(len(y_pred)):\n",
    "        writer.writerow((test_ids[i], y_pred[i]))"
   ]
  }
 ],
 "metadata": {
  "kernelspec": {
   "display_name": "Python 3",
   "language": "python",
   "name": "python3"
  },
  "language_info": {
   "codemirror_mode": {
    "name": "ipython",
    "version": 3
   },
   "file_extension": ".py",
   "mimetype": "text/x-python",
   "name": "python",
   "nbconvert_exporter": "python",
   "pygments_lexer": "ipython3",
   "version": "3.6.4"
  }
 },
 "nbformat": 4,
 "nbformat_minor": 2
}
