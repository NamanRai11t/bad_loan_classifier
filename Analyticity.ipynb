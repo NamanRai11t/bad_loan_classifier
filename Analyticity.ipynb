{
 "cells": [
  {
   "cell_type": "code",
   "execution_count": 5,
   "metadata": {},
   "outputs": [],
   "source": [
    "# Import necessary libraries.\n",
    "\n",
    "import numpy as np\n",
    "import helpers\n",
    "import matplotlib.pyplot as plt\n",
    "import csv\n",
    "from keras.models import Sequential\n",
    "from keras.layers import Dense"
   ]
  },
  {
   "cell_type": "code",
   "execution_count": 31,
   "metadata": {},
   "outputs": [],
   "source": [
    "# Load data.\n",
    "\n",
    "X_train, y_train, X_test, y_test = helpers.load_data('train.csv', split=0.8, blacklist=['LOAN_ID',]) #'REASON', 'OCC', 'CONVICTED'])\n",
    "#X_test, test_ids = helpers.load_test_data('test.csv', blacklist=['TEST_ID', 'LOAN_ID'])"
   ]
  },
  {
   "cell_type": "code",
   "execution_count": 32,
   "metadata": {},
   "outputs": [],
   "source": [
    "# Ensuring that all the data is floats.\n",
    "X_train = np.array([ [0 if element=='' else float(element) for element in row] for row in X_train])\n",
    "X_test = np.array([ [0 if element=='' else float(element) for element in row] for row in X_test])\n",
    "\n",
    "y_train = np.array([ float(element) for element in y_train])\n",
    "y_test = np.array([ float(element) for element in y_test])"
   ]
  },
  {
   "cell_type": "code",
   "execution_count": 20,
   "metadata": {},
   "outputs": [],
   "source": [
    "# Normalising training & test data.\n",
    "\n",
    "X_train = helpers.normalise_data(X_train)\n",
    "X_test = helpers.normalise_data(X_test)"
   ]
  },
  {
   "cell_type": "code",
   "execution_count": 28,
   "metadata": {},
   "outputs": [],
   "source": [
    "# Creating & compiling the model.\n",
    "\n",
    "model = Sequential()\n",
    "model.add(Dense(6, input_dim=11, activation='relu'))\n",
    "model.add(Dense(1, activation='sigmoid'))\n",
    "\n",
    "model.compile(loss='binary_crossentropy', optimizer='adam', metrics=['accuracy'])"
   ]
  },
  {
   "cell_type": "code",
   "execution_count": 29,
   "metadata": {},
   "outputs": [
    {
     "name": "stdout",
     "output_type": "stream",
     "text": [
      "Epoch 1/50\n",
      "2859/2859 [==============================] - 0s 155us/step - loss: 0.5488 - acc: 0.8017\n",
      "Epoch 2/50\n",
      "2859/2859 [==============================] - 0s 44us/step - loss: 0.5036 - acc: 0.8017\n",
      "Epoch 3/50\n",
      "2859/2859 [==============================] - 0s 49us/step - loss: 0.4867 - acc: 0.8017\n",
      "Epoch 4/50\n",
      "2859/2859 [==============================] - 0s 52us/step - loss: 0.4710 - acc: 0.8017\n",
      "Epoch 5/50\n",
      "2859/2859 [==============================] - 0s 44us/step - loss: 0.4553 - acc: 0.8020\n",
      "Epoch 6/50\n",
      "2859/2859 [==============================] - 0s 49us/step - loss: 0.4397 - acc: 0.8062\n",
      "Epoch 7/50\n",
      "2859/2859 [==============================] - 0s 44us/step - loss: 0.4245 - acc: 0.8122\n",
      "Epoch 8/50\n",
      "2859/2859 [==============================] - 0s 44us/step - loss: 0.4105 - acc: 0.8209\n",
      "Epoch 9/50\n",
      "2859/2859 [==============================] - 0s 38us/step - loss: 0.3985 - acc: 0.8234\n",
      "Epoch 10/50\n",
      "2859/2859 [==============================] - 0s 38us/step - loss: 0.3876 - acc: 0.8297\n",
      "Epoch 11/50\n",
      "2859/2859 [==============================] - 0s 44us/step - loss: 0.3787 - acc: 0.8353\n",
      "Epoch 12/50\n",
      "2859/2859 [==============================] - 0s 43us/step - loss: 0.3716 - acc: 0.8395\n",
      "Epoch 13/50\n",
      "2859/2859 [==============================] - 0s 44us/step - loss: 0.3661 - acc: 0.8430\n",
      "Epoch 14/50\n",
      "2859/2859 [==============================] - 0s 44us/step - loss: 0.3610 - acc: 0.8475\n",
      "Epoch 15/50\n",
      "2859/2859 [==============================] - 0s 38us/step - loss: 0.3583 - acc: 0.8492\n",
      "Epoch 16/50\n",
      "2859/2859 [==============================] - 0s 47us/step - loss: 0.3547 - acc: 0.8569\n",
      "Epoch 17/50\n",
      "2859/2859 [==============================] - 0s 41us/step - loss: 0.3523 - acc: 0.8559\n",
      "Epoch 18/50\n",
      "2859/2859 [==============================] - 0s 38us/step - loss: 0.3502 - acc: 0.8632\n",
      "Epoch 19/50\n",
      "2859/2859 [==============================] - 0s 44us/step - loss: 0.3488 - acc: 0.8604\n",
      "Epoch 20/50\n",
      "2859/2859 [==============================] - 0s 44us/step - loss: 0.3479 - acc: 0.8597\n",
      "Epoch 21/50\n",
      "2859/2859 [==============================] - 0s 44us/step - loss: 0.3466 - acc: 0.8636\n",
      "Epoch 22/50\n",
      "2859/2859 [==============================] - 0s 38us/step - loss: 0.3459 - acc: 0.8622\n",
      "Epoch 23/50\n",
      "2859/2859 [==============================] - 0s 44us/step - loss: 0.3456 - acc: 0.8639\n",
      "Epoch 24/50\n",
      "2859/2859 [==============================] - 0s 44us/step - loss: 0.3445 - acc: 0.8632\n",
      "Epoch 25/50\n",
      "2859/2859 [==============================] - 0s 44us/step - loss: 0.3438 - acc: 0.8636\n",
      "Epoch 26/50\n",
      "2859/2859 [==============================] - 0s 49us/step - loss: 0.3433 - acc: 0.8653\n",
      "Epoch 27/50\n",
      "2859/2859 [==============================] - 0s 44us/step - loss: 0.3434 - acc: 0.8625\n",
      "Epoch 28/50\n",
      "2859/2859 [==============================] - 0s 44us/step - loss: 0.3428 - acc: 0.8632\n",
      "Epoch 29/50\n",
      "2859/2859 [==============================] - 0s 43us/step - loss: 0.3422 - acc: 0.8678\n",
      "Epoch 30/50\n",
      "2859/2859 [==============================] - 0s 44us/step - loss: 0.3422 - acc: 0.8653\n",
      "Epoch 31/50\n",
      "2859/2859 [==============================] - 0s 44us/step - loss: 0.3418 - acc: 0.8639\n",
      "Epoch 32/50\n",
      "2859/2859 [==============================] - 0s 44us/step - loss: 0.3418 - acc: 0.8674\n",
      "Epoch 33/50\n",
      "2859/2859 [==============================] - 0s 39us/step - loss: 0.3412 - acc: 0.8664\n",
      "Epoch 34/50\n",
      "2859/2859 [==============================] - 0s 55us/step - loss: 0.3407 - acc: 0.8660\n",
      "Epoch 35/50\n",
      "2859/2859 [==============================] - 0s 44us/step - loss: 0.3405 - acc: 0.8674\n",
      "Epoch 36/50\n",
      "2859/2859 [==============================] - 0s 44us/step - loss: 0.3404 - acc: 0.8678\n",
      "Epoch 37/50\n",
      "2859/2859 [==============================] - 0s 39us/step - loss: 0.3398 - acc: 0.8650\n",
      "Epoch 38/50\n",
      "2859/2859 [==============================] - 0s 49us/step - loss: 0.3394 - acc: 0.8727\n",
      "Epoch 39/50\n",
      "2859/2859 [==============================] - 0s 49us/step - loss: 0.3393 - acc: 0.8667\n",
      "Epoch 40/50\n",
      "2859/2859 [==============================] - 0s 50us/step - loss: 0.3387 - acc: 0.8681\n",
      "Epoch 41/50\n",
      "2859/2859 [==============================] - 0s 49us/step - loss: 0.3385 - acc: 0.8685\n",
      "Epoch 42/50\n",
      "2859/2859 [==============================] - 0s 49us/step - loss: 0.3386 - acc: 0.8692\n",
      "Epoch 43/50\n",
      "2859/2859 [==============================] - 0s 49us/step - loss: 0.3382 - acc: 0.8727\n",
      "Epoch 44/50\n",
      "2859/2859 [==============================] - 0s 43us/step - loss: 0.3378 - acc: 0.8723\n",
      "Epoch 45/50\n",
      "2859/2859 [==============================] - 0s 44us/step - loss: 0.3374 - acc: 0.8713\n",
      "Epoch 46/50\n",
      "2859/2859 [==============================] - 0s 44us/step - loss: 0.3372 - acc: 0.8727\n",
      "Epoch 47/50\n",
      "2859/2859 [==============================] - 0s 44us/step - loss: 0.3366 - acc: 0.8720\n",
      "Epoch 48/50\n",
      "2859/2859 [==============================] - 0s 44us/step - loss: 0.3367 - acc: 0.8730\n",
      "Epoch 49/50\n",
      "2859/2859 [==============================] - 0s 44us/step - loss: 0.3362 - acc: 0.8723\n",
      "Epoch 50/50\n",
      "2859/2859 [==============================] - 0s 44us/step - loss: 0.3360 - acc: 0.8723\n"
     ]
    },
    {
     "data": {
      "text/plain": [
       "<keras.callbacks.History at 0x206c97744a8>"
      ]
     },
     "execution_count": 29,
     "metadata": {},
     "output_type": "execute_result"
    }
   ],
   "source": [
    "# Training the model.\n",
    "\n",
    "model.fit(X_train, y_train, epochs=40, batch_size=25)"
   ]
  },
  {
   "cell_type": "code",
   "execution_count": 30,
   "metadata": {
    "scrolled": true
   },
   "outputs": [
    {
     "name": "stdout",
     "output_type": "stream",
     "text": [
      "The model ran with 87.2905027933% accuracy\n"
     ]
    }
   ],
   "source": [
    "# Predicting from the test set.\n",
    "\n",
    "y_pred = model.predict(X_test)\n",
    "y_pred = helpers.round(y_pred, threshold=0.5)\n",
    "y_correct = abs(y_pred - y_test)\n",
    "percentage = ((1 -(sum(y_correct)/y_correct.size)) * 100)\n",
    "print(\"The model ran with \" + str(percentage) + \"% accuracy\")"
   ]
  },
  {
   "cell_type": "code",
   "execution_count": null,
   "metadata": {},
   "outputs": [],
   "source": [
    "# Submission code.\n",
    "\n",
    "y_pred = model.predict(X_test)\n",
    "y_pred = helpers.round(y_pred, threshold=0.6)\n",
    "\n",
    "with open('submission.csv', 'w', newline='') as output:\n",
    "    writer = csv.writer(output)\n",
    "    writer.writerow(['LOAN_ID', 'DEFAULTER'])\n",
    "    for i in range(len(y_pred)):\n",
    "        writer.writerow((test_ids[i], y_pred[i]))"
   ]
  },
  {
   "cell_type": "code",
   "execution_count": 34,
   "metadata": {
    "scrolled": true
   },
   "outputs": [
    {
     "data": {
      "text/plain": [
       "<matplotlib.figure.Figure at 0x206cd3a5470>"
      ]
     },
     "metadata": {},
     "output_type": "display_data"
    }
   ],
   "source": [
    "# Plot playground\n",
    "#feature_names=['AMOUNT','DUE_MORTGAGE','VALUE', 'REASON','OCC', 'TJOB','DCL','CLT','CL_COUNT','RATIO','CONVICTED','VAR_1','VAR_2','VAR_3']\n",
    "helpers.plot_helper(X_train, y_train, [0,1,2,3,4,5,6,7,8,9,10,11,12,13], feature_names)\n",
    "\n"
   ]
  },
  {
   "cell_type": "code",
   "execution_count": null,
   "metadata": {},
   "outputs": [],
   "source": []
  }
 ],
 "metadata": {
  "kernelspec": {
   "display_name": "Python 3",
   "language": "python",
   "name": "python3"
  },
  "language_info": {
   "codemirror_mode": {
    "name": "ipython",
    "version": 3
   },
   "file_extension": ".py",
   "mimetype": "text/x-python",
   "name": "python",
   "nbconvert_exporter": "python",
   "pygments_lexer": "ipython3",
   "version": "3.6.4"
  }
 },
 "nbformat": 4,
 "nbformat_minor": 2
}
