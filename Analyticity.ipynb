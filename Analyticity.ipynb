{
 "cells": [
  {
   "cell_type": "code",
   "execution_count": 1,
   "metadata": {},
   "outputs": [
    {
     "name": "stderr",
     "output_type": "stream",
     "text": [
      "Using TensorFlow backend.\n"
     ]
    }
   ],
   "source": [
    "# Import necessary libraries.\n",
    "\n",
    "import numpy as np\n",
    "import helpers\n",
    "import matplotlib.pyplot as plt\n",
    "import csv\n",
    "from keras.models import Sequential\n",
    "from keras.layers import Dense"
   ]
  },
  {
   "cell_type": "code",
   "execution_count": 13,
   "metadata": {},
   "outputs": [],
   "source": [
    "# Load data.\n",
    "\n",
    "X_train, y_train, X_test, y_test = helpers.load_data('train.csv', split=1, blacklist=['LOAN_ID'])\n",
    "X_test, test_ids = helpers.load_test_data('test.csv', blacklist=['TEST_ID', 'LOAN_ID'])"
   ]
  },
  {
   "cell_type": "code",
   "execution_count": 14,
   "metadata": {},
   "outputs": [],
   "source": [
    "# Ensuring that all the data is floats.\n",
    "X_train = np.array([ [0 if element=='' else float(element) for element in row] for row in X_train])\n",
    "X_test = np.array([ [0 if element=='' else float(element) for element in row] for row in X_test])\n",
    "\n",
    "y_train = np.array([ float(element) for element in y_train])\n",
    "y_test = np.array([ float(element) for element in y_test])"
   ]
  },
  {
   "cell_type": "code",
   "execution_count": 15,
   "metadata": {},
   "outputs": [],
   "source": [
    "# Normalising training & test data.\n",
    "\n",
    "X_train = helpers.normalise_data(X_train, [0,1,2,5,7,8,9,13])\n",
    "X_test = helpers.normalise_data(X_test, [0,1,2,5,7,8,9,13])"
   ]
  },
  {
   "cell_type": "code",
   "execution_count": 16,
   "metadata": {},
   "outputs": [],
   "source": [
    "# Creating & compiling the model.\n",
    "\n",
    "model = Sequential()\n",
    "model.add(Dense(92, input_dim=14, activation='relu'))\n",
    "model.add(Dense(46, activation='relu'))\n",
    "model.add(Dense(1, activation='sigmoid'))\n",
    "\n",
    "model.compile(loss='binary_crossentropy', optimizer='adam', metrics=['accuracy'])"
   ]
  },
  {
   "cell_type": "code",
   "execution_count": 17,
   "metadata": {},
   "outputs": [
    {
     "name": "stdout",
     "output_type": "stream",
     "text": [
      "Epoch 1/35\n",
      "3575/3575 [==============================] - 0s 114us/step - loss: 0.4377 - acc: 0.8215\n",
      "Epoch 2/35\n",
      "3575/3575 [==============================] - 0s 48us/step - loss: 0.3802 - acc: 0.8389\n",
      "Epoch 3/35\n",
      "3575/3575 [==============================] - 0s 39us/step - loss: 0.3622 - acc: 0.8490\n",
      "Epoch 4/35\n",
      "3575/3575 [==============================] - 0s 39us/step - loss: 0.3514 - acc: 0.8565\n",
      "Epoch 5/35\n",
      "3575/3575 [==============================] - 0s 35us/step - loss: 0.3439 - acc: 0.8655\n",
      "Epoch 6/35\n",
      "3575/3575 [==============================] - 0s 35us/step - loss: 0.3419 - acc: 0.8713\n",
      "Epoch 7/35\n",
      "3575/3575 [==============================] - 0s 39us/step - loss: 0.3393 - acc: 0.8761\n",
      "Epoch 8/35\n",
      "3575/3575 [==============================] - 0s 40us/step - loss: 0.3334 - acc: 0.8744\n",
      "Epoch 9/35\n",
      "3575/3575 [==============================] - 0s 39us/step - loss: 0.3310 - acc: 0.8772\n",
      "Epoch 10/35\n",
      "3575/3575 [==============================] - 0s 39us/step - loss: 0.3301 - acc: 0.8786\n",
      "Epoch 11/35\n",
      "3575/3575 [==============================] - 0s 43us/step - loss: 0.3242 - acc: 0.8822\n",
      "Epoch 12/35\n",
      "3575/3575 [==============================] - 0s 40us/step - loss: 0.3233 - acc: 0.8783\n",
      "Epoch 13/35\n",
      "3575/3575 [==============================] - 0s 39us/step - loss: 0.3214 - acc: 0.8808\n",
      "Epoch 14/35\n",
      "3575/3575 [==============================] - 0s 35us/step - loss: 0.3168 - acc: 0.8842\n",
      "Epoch 15/35\n",
      "3575/3575 [==============================] - 0s 35us/step - loss: 0.3128 - acc: 0.8839\n",
      "Epoch 16/35\n",
      "3575/3575 [==============================] - 0s 35us/step - loss: 0.3115 - acc: 0.8831\n",
      "Epoch 17/35\n",
      "3575/3575 [==============================] - 0s 39us/step - loss: 0.3108 - acc: 0.8862\n",
      "Epoch 18/35\n",
      "3575/3575 [==============================] - 0s 35us/step - loss: 0.3043 - acc: 0.8873\n",
      "Epoch 19/35\n",
      "3575/3575 [==============================] - 0s 39us/step - loss: 0.3037 - acc: 0.8864\n",
      "Epoch 20/35\n",
      "3575/3575 [==============================] - 0s 35us/step - loss: 0.3030 - acc: 0.8831\n",
      "Epoch 21/35\n",
      "3575/3575 [==============================] - 0s 39us/step - loss: 0.2988 - acc: 0.8862\n",
      "Epoch 22/35\n",
      "3575/3575 [==============================] - 0s 35us/step - loss: 0.2929 - acc: 0.8876\n",
      "Epoch 23/35\n",
      "3575/3575 [==============================] - 0s 35us/step - loss: 0.2895 - acc: 0.8892\n",
      "Epoch 24/35\n",
      "3575/3575 [==============================] - 0s 35us/step - loss: 0.2869 - acc: 0.8903\n",
      "Epoch 25/35\n",
      "3575/3575 [==============================] - 0s 39us/step - loss: 0.2816 - acc: 0.8929\n",
      "Epoch 26/35\n",
      "3575/3575 [==============================] - 0s 39us/step - loss: 0.2803 - acc: 0.8903\n",
      "Epoch 27/35\n",
      "3575/3575 [==============================] - 0s 39us/step - loss: 0.2771 - acc: 0.8915\n",
      "Epoch 28/35\n",
      "3575/3575 [==============================] - 0s 39us/step - loss: 0.2751 - acc: 0.8951\n",
      "Epoch 29/35\n",
      "3575/3575 [==============================] - 0s 39us/step - loss: 0.2728 - acc: 0.8937\n",
      "Epoch 30/35\n",
      "3575/3575 [==============================] - 0s 39us/step - loss: 0.2668 - acc: 0.8990\n",
      "Epoch 31/35\n",
      "3575/3575 [==============================] - 0s 39us/step - loss: 0.2681 - acc: 0.8934\n",
      "Epoch 32/35\n",
      "3575/3575 [==============================] - 0s 44us/step - loss: 0.2641 - acc: 0.8971\n",
      "Epoch 33/35\n",
      "3575/3575 [==============================] - 0s 39us/step - loss: 0.2568 - acc: 0.8999\n",
      "Epoch 34/35\n",
      "3575/3575 [==============================] - 0s 40us/step - loss: 0.2556 - acc: 0.8976\n",
      "Epoch 35/35\n",
      "3575/3575 [==============================] - 0s 39us/step - loss: 0.2542 - acc: 0.9010\n"
     ]
    },
    {
     "data": {
      "text/plain": [
       "<keras.callbacks.History at 0x1f0731f4d68>"
      ]
     },
     "execution_count": 17,
     "metadata": {},
     "output_type": "execute_result"
    }
   ],
   "source": [
    "# Training the model.\n",
    "\n",
    "model.fit(X_train, y_train, epochs=35, batch_size=25)"
   ]
  },
  {
   "cell_type": "code",
   "execution_count": 7,
   "metadata": {
    "scrolled": true
   },
   "outputs": [],
   "source": [
    "# Predicting from the test set.\n",
    "\n",
    "#y_pred = model.predict(X_test)\n",
    "#y_pred = helpers.round(y_pred, threshold=0.6)\n",
    "#y_correct = abs(y_pred - y_test)\n",
    "#percentage = ((1 -(sum(y_correct)/y_correct.size)) * 100)\n",
    "#print(\"The model ran with \" + str(percentage) + \"% accuracy\")"
   ]
  },
  {
   "cell_type": "code",
   "execution_count": 18,
   "metadata": {},
   "outputs": [],
   "source": [
    "# Submission code.\n",
    "\n",
    "y_pred = model.predict(X_test)\n",
    "y_pred = helpers.round(y_pred, threshold=0.6)\n",
    "\n",
    "with open('submission.csv', 'w', newline='') as output:\n",
    "    writer = csv.writer(output)\n",
    "    writer.writerow(['LOAN_ID', 'DEFAULTER'])\n",
    "    for i in range(len(y_pred)):\n",
    "        writer.writerow((test_ids[i], y_pred[i]))"
   ]
  }
 ],
 "metadata": {
  "kernelspec": {
   "display_name": "Python 3",
   "language": "python",
   "name": "python3"
  },
  "language_info": {
   "codemirror_mode": {
    "name": "ipython",
    "version": 3
   },
   "file_extension": ".py",
   "mimetype": "text/x-python",
   "name": "python",
   "nbconvert_exporter": "python",
   "pygments_lexer": "ipython3",
   "version": "3.6.4"
  }
 },
 "nbformat": 4,
 "nbformat_minor": 2
}
