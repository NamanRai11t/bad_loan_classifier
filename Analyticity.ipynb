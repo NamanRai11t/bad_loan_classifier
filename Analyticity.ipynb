{
 "cells": [
  {
   "cell_type": "code",
   "execution_count": 1,
   "metadata": {},
   "outputs": [
    {
     "name": "stderr",
     "output_type": "stream",
     "text": [
      "Using TensorFlow backend.\n"
     ]
    }
   ],
   "source": [
    "# Import necessary libraries.\n",
    "\n",
    "import numpy as np\n",
    "import helpers\n",
    "import matplotlib.pyplot as plt\n",
    "import csv\n",
    "from keras.models import Sequential\n",
    "from keras.layers import Dense"
   ]
  },
  {
   "cell_type": "code",
   "execution_count": 52,
   "metadata": {},
   "outputs": [],
   "source": [
    "# Load data.\n",
    "\n",
    "X_train, y_train, X_test, y_test = helpers.load_data('train.csv', split=1, blacklist=['LOAN_ID'])\n",
    "X_test, test_ids = helpers.load_test_data('test.csv', blacklist=['TEST_ID', 'LOAN_ID'])"
   ]
  },
  {
   "cell_type": "code",
   "execution_count": 53,
   "metadata": {},
   "outputs": [],
   "source": [
    "# Ensuring that all the data is floats.\n",
    "X_train = np.array([ [0 if element=='' else float(element) for element in row] for row in X_train])\n",
    "X_test = np.array([ [0 if element=='' else float(element) for element in row] for row in X_test])\n",
    "\n",
    "y_train = np.array([ float(element) for element in y_train])\n",
    "y_test = np.array([ float(element) for element in y_test])"
   ]
  },
  {
   "cell_type": "code",
   "execution_count": 54,
   "metadata": {},
   "outputs": [],
   "source": [
    "# Normalising training & test data.\n",
    "\n",
    "X_train = helpers.normalise_data(X_train, [0,1,2,5,7,8,9,13])\n",
    "X_test = helpers.normalise_data(X_test, [0,1,2,5,7,8,9,13])"
   ]
  },
  {
   "cell_type": "code",
   "execution_count": 55,
   "metadata": {},
   "outputs": [],
   "source": [
    "# Creating & compiling the model.\n",
    "\n",
    "model = Sequential()\n",
    "model.add(Dense(8, input_dim=14, activation='relu'))\n",
    "model.add(Dense(1, activation='sigmoid'))\n",
    "\n",
    "model.compile(loss='binary_crossentropy', optimizer='adam', metrics=['accuracy'])"
   ]
  },
  {
   "cell_type": "code",
   "execution_count": 56,
   "metadata": {},
   "outputs": [
    {
     "name": "stdout",
     "output_type": "stream",
     "text": [
      "Epoch 1/50\n",
      "3575/3575 [==============================] - 0s 125us/step - loss: 0.8595 - acc: 0.3597\n",
      "Epoch 2/50\n",
      "3575/3575 [==============================] - 0s 40us/step - loss: 0.5797 - acc: 0.7561\n",
      "Epoch 3/50\n",
      "3575/3575 [==============================] - 0s 39us/step - loss: 0.4668 - acc: 0.8109\n",
      "Epoch 4/50\n",
      "3575/3575 [==============================] - 0s 44us/step - loss: 0.4423 - acc: 0.8193\n",
      "Epoch 5/50\n",
      "3575/3575 [==============================] - 0s 41us/step - loss: 0.4306 - acc: 0.8241\n",
      "Epoch 6/50\n",
      "3575/3575 [==============================] - 0s 37us/step - loss: 0.4216 - acc: 0.8241\n",
      "Epoch 7/50\n",
      "3575/3575 [==============================] - 0s 39us/step - loss: 0.4131 - acc: 0.8266\n",
      "Epoch 8/50\n",
      "3575/3575 [==============================] - 0s 39us/step - loss: 0.4056 - acc: 0.8283\n",
      "Epoch 9/50\n",
      "3575/3575 [==============================] - 0s 40us/step - loss: 0.3994 - acc: 0.8336\n",
      "Epoch 10/50\n",
      "3575/3575 [==============================] - 0s 39us/step - loss: 0.3934 - acc: 0.8316\n",
      "Epoch 11/50\n",
      "3575/3575 [==============================] - 0s 44us/step - loss: 0.3872 - acc: 0.8350\n",
      "Epoch 12/50\n",
      "3575/3575 [==============================] - 0s 39us/step - loss: 0.3822 - acc: 0.8366\n",
      "Epoch 13/50\n",
      "3575/3575 [==============================] - 0s 40us/step - loss: 0.3775 - acc: 0.8369\n",
      "Epoch 14/50\n",
      "3575/3575 [==============================] - 0s 39us/step - loss: 0.3736 - acc: 0.8372\n",
      "Epoch 15/50\n",
      "3575/3575 [==============================] - 0s 44us/step - loss: 0.3689 - acc: 0.8422\n",
      "Epoch 16/50\n",
      "3575/3575 [==============================] - 0s 47us/step - loss: 0.3643 - acc: 0.8425\n",
      "Epoch 17/50\n",
      "3575/3575 [==============================] - 0s 44us/step - loss: 0.3590 - acc: 0.8464\n",
      "Epoch 18/50\n",
      "3575/3575 [==============================] - 0s 44us/step - loss: 0.3551 - acc: 0.8501\n",
      "Epoch 19/50\n",
      "3575/3575 [==============================] - 0s 44us/step - loss: 0.3525 - acc: 0.8509\n",
      "Epoch 20/50\n",
      "3575/3575 [==============================] - 0s 39us/step - loss: 0.3498 - acc: 0.8540\n",
      "Epoch 21/50\n",
      "3575/3575 [==============================] - 0s 35us/step - loss: 0.3481 - acc: 0.8582\n",
      "Epoch 22/50\n",
      "3575/3575 [==============================] - 0s 35us/step - loss: 0.3452 - acc: 0.8579\n",
      "Epoch 23/50\n",
      "3575/3575 [==============================] - 0s 40us/step - loss: 0.3449 - acc: 0.8576\n",
      "Epoch 24/50\n",
      "3575/3575 [==============================] - 0s 39us/step - loss: 0.3427 - acc: 0.8593\n",
      "Epoch 25/50\n",
      "3575/3575 [==============================] - 0s 39us/step - loss: 0.3414 - acc: 0.8610\n",
      "Epoch 26/50\n",
      "3575/3575 [==============================] - 0s 44us/step - loss: 0.3412 - acc: 0.8627\n",
      "Epoch 27/50\n",
      "3575/3575 [==============================] - 0s 39us/step - loss: 0.3397 - acc: 0.8635\n",
      "Epoch 28/50\n",
      "3575/3575 [==============================] - 0s 44us/step - loss: 0.3387 - acc: 0.8638\n",
      "Epoch 29/50\n",
      "3575/3575 [==============================] - 0s 44us/step - loss: 0.3381 - acc: 0.8652\n",
      "Epoch 30/50\n",
      "3575/3575 [==============================] - 0s 48us/step - loss: 0.3367 - acc: 0.8666\n",
      "Epoch 31/50\n",
      "3575/3575 [==============================] - 0s 45us/step - loss: 0.3359 - acc: 0.8683\n",
      "Epoch 32/50\n",
      "3575/3575 [==============================] - 0s 48us/step - loss: 0.3359 - acc: 0.8666\n",
      "Epoch 33/50\n",
      "3575/3575 [==============================] - 0s 42us/step - loss: 0.3346 - acc: 0.8719\n",
      "Epoch 34/50\n",
      "3575/3575 [==============================] - 0s 39us/step - loss: 0.3341 - acc: 0.8699\n",
      "Epoch 35/50\n",
      "3575/3575 [==============================] - 0s 39us/step - loss: 0.3333 - acc: 0.8702\n",
      "Epoch 36/50\n",
      "3575/3575 [==============================] - 0s 40us/step - loss: 0.3330 - acc: 0.8724\n",
      "Epoch 37/50\n",
      "3575/3575 [==============================] - 0s 39us/step - loss: 0.3327 - acc: 0.8688\n",
      "Epoch 38/50\n",
      "3575/3575 [==============================] - 0s 44us/step - loss: 0.3317 - acc: 0.8724\n",
      "Epoch 39/50\n",
      "3575/3575 [==============================] - 0s 39us/step - loss: 0.3310 - acc: 0.8736\n",
      "Epoch 40/50\n",
      "3575/3575 [==============================] - 0s 44us/step - loss: 0.3309 - acc: 0.8736\n",
      "Epoch 41/50\n",
      "3575/3575 [==============================] - 0s 39us/step - loss: 0.3306 - acc: 0.8755\n",
      "Epoch 42/50\n",
      "3575/3575 [==============================] - 0s 44us/step - loss: 0.3309 - acc: 0.8741\n",
      "Epoch 43/50\n",
      "3575/3575 [==============================] - 0s 44us/step - loss: 0.3302 - acc: 0.8755\n",
      "Epoch 44/50\n",
      "3575/3575 [==============================] - 0s 44us/step - loss: 0.3296 - acc: 0.8758\n",
      "Epoch 45/50\n",
      "3575/3575 [==============================] - 0s 44us/step - loss: 0.3290 - acc: 0.8778\n",
      "Epoch 46/50\n",
      "3575/3575 [==============================] - 0s 47us/step - loss: 0.3292 - acc: 0.8772\n",
      "Epoch 47/50\n",
      "3575/3575 [==============================] - 0s 48us/step - loss: 0.3287 - acc: 0.8772\n",
      "Epoch 48/50\n",
      "3575/3575 [==============================] - 0s 44us/step - loss: 0.3282 - acc: 0.8783\n",
      "Epoch 49/50\n",
      "3575/3575 [==============================] - 0s 40us/step - loss: 0.3284 - acc: 0.8778\n",
      "Epoch 50/50\n",
      "3575/3575 [==============================] - 0s 39us/step - loss: 0.3279 - acc: 0.8789\n"
     ]
    },
    {
     "data": {
      "text/plain": [
       "<keras.callbacks.History at 0x20eedb0ebe0>"
      ]
     },
     "execution_count": 56,
     "metadata": {},
     "output_type": "execute_result"
    }
   ],
   "source": [
    "# Training the model.\n",
    "\n",
    "model.fit(X_train, y_train, epochs=50, batch_size=25)"
   ]
  },
  {
   "cell_type": "code",
   "execution_count": 57,
   "metadata": {
    "scrolled": true
   },
   "outputs": [
    {
     "ename": "ValueError",
     "evalue": "operands could not be broadcast together with shapes (2384,) (0,) ",
     "output_type": "error",
     "traceback": [
      "\u001b[1;31m---------------------------------------------------------------------------\u001b[0m",
      "\u001b[1;31mValueError\u001b[0m                                Traceback (most recent call last)",
      "\u001b[1;32m<ipython-input-57-7b08e9addb95>\u001b[0m in \u001b[0;36m<module>\u001b[1;34m()\u001b[0m\n\u001b[0;32m      3\u001b[0m \u001b[0my_pred\u001b[0m \u001b[1;33m=\u001b[0m \u001b[0mmodel\u001b[0m\u001b[1;33m.\u001b[0m\u001b[0mpredict\u001b[0m\u001b[1;33m(\u001b[0m\u001b[0mX_test\u001b[0m\u001b[1;33m)\u001b[0m\u001b[1;33m\u001b[0m\u001b[0m\n\u001b[0;32m      4\u001b[0m \u001b[0my_pred\u001b[0m \u001b[1;33m=\u001b[0m \u001b[0mhelpers\u001b[0m\u001b[1;33m.\u001b[0m\u001b[0mround\u001b[0m\u001b[1;33m(\u001b[0m\u001b[0my_pred\u001b[0m\u001b[1;33m,\u001b[0m \u001b[0mthreshold\u001b[0m\u001b[1;33m=\u001b[0m\u001b[1;36m0.5\u001b[0m\u001b[1;33m)\u001b[0m\u001b[1;33m\u001b[0m\u001b[0m\n\u001b[1;32m----> 5\u001b[1;33m \u001b[0my_correct\u001b[0m \u001b[1;33m=\u001b[0m \u001b[0mabs\u001b[0m\u001b[1;33m(\u001b[0m\u001b[0my_pred\u001b[0m \u001b[1;33m-\u001b[0m \u001b[0my_test\u001b[0m\u001b[1;33m)\u001b[0m\u001b[1;33m\u001b[0m\u001b[0m\n\u001b[0m\u001b[0;32m      6\u001b[0m \u001b[0mpercentage\u001b[0m \u001b[1;33m=\u001b[0m \u001b[1;33m(\u001b[0m\u001b[1;33m(\u001b[0m\u001b[1;36m1\u001b[0m \u001b[1;33m-\u001b[0m\u001b[1;33m(\u001b[0m\u001b[0msum\u001b[0m\u001b[1;33m(\u001b[0m\u001b[0my_correct\u001b[0m\u001b[1;33m)\u001b[0m\u001b[1;33m/\u001b[0m\u001b[0my_correct\u001b[0m\u001b[1;33m.\u001b[0m\u001b[0msize\u001b[0m\u001b[1;33m)\u001b[0m\u001b[1;33m)\u001b[0m \u001b[1;33m*\u001b[0m \u001b[1;36m100\u001b[0m\u001b[1;33m)\u001b[0m\u001b[1;33m\u001b[0m\u001b[0m\n\u001b[0;32m      7\u001b[0m \u001b[0mprint\u001b[0m\u001b[1;33m(\u001b[0m\u001b[1;34m\"The model ran with \"\u001b[0m \u001b[1;33m+\u001b[0m \u001b[0mstr\u001b[0m\u001b[1;33m(\u001b[0m\u001b[0mpercentage\u001b[0m\u001b[1;33m)\u001b[0m \u001b[1;33m+\u001b[0m \u001b[1;34m\"% accuracy\"\u001b[0m\u001b[1;33m)\u001b[0m\u001b[1;33m\u001b[0m\u001b[0m\n",
      "\u001b[1;31mValueError\u001b[0m: operands could not be broadcast together with shapes (2384,) (0,) "
     ]
    }
   ],
   "source": [
    "# Predicting from the test set.\n",
    "\n",
    "y_pred = model.predict(X_test)\n",
    "y_pred = helpers.round(y_pred, threshold=0.5)\n",
    "y_correct = abs(y_pred - y_test)\n",
    "percentage = ((1 -(sum(y_correct)/y_correct.size)) * 100)\n",
    "print(\"The model ran with \" + str(percentage) + \"% accuracy\")"
   ]
  },
  {
   "cell_type": "code",
   "execution_count": 18,
   "metadata": {},
   "outputs": [],
   "source": [
    "# Submission code.\n",
    "\n",
    "y_pred = model.predict(X_test)\n",
    "y_pred = helpers.round(y_pred, threshold=0.6)\n",
    "\n",
    "with open('submission.csv', 'w', newline='') as output:\n",
    "    writer = csv.writer(output)\n",
    "    writer.writerow(['LOAN_ID', 'DEFAULTER'])\n",
    "    for i in range(len(y_pred)):\n",
    "        writer.writerow((test_ids[i], y_pred[i]))"
   ]
  }
 ],
 "metadata": {
  "kernelspec": {
   "display_name": "Python 3",
   "language": "python",
   "name": "python3"
  },
  "language_info": {
   "codemirror_mode": {
    "name": "ipython",
    "version": 3
   },
   "file_extension": ".py",
   "mimetype": "text/x-python",
   "name": "python",
   "nbconvert_exporter": "python",
   "pygments_lexer": "ipython3",
   "version": "3.6.4"
  }
 },
 "nbformat": 4,
 "nbformat_minor": 2
}
